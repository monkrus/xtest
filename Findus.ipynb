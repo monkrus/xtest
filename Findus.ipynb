{
 "cells": [
  {
   "cell_type": "code",
   "execution_count": null,
   "id": "7429d0d7",
   "metadata": {},
   "outputs": [],
   "source": [
    "def extract_features(packet):\n",
    "    features = [None] * 17\n",
    "    if IP in packet:\n",
    "        ip = packet[IP]\n",
    "        features[0] = ip.version\n",
    "        features[1] = ip.ihl\n",
    "        features[2] = ip.tos\n",
    "        features[3] = ip.len\n",
    "        features[4] = ip.flags\n",
    "        features[5] = ip.frag\n",
    "        features[6] = ip.ttl\n",
    "        features[7] = ip.proto\n",
    "    if TCP in packet:\n",
    "        tcp = packet[TCP]\n",
    "        features[8] = tcp.sport\n",
    "        features[9] = tcp.dport\n",
    "        features[10] = tcp.seq\n",
    "        features[11] = tcp.ack\n",
    "        features[12] = tcp.flags\n",
    "        features[13] = tcp.window\n",
    "    if UDP in packet:\n",
    "        udp = packet[UDP]\n",
    "        features[14] = udp.sport\n",
    "        features[15] = udp.dport\n",
    "        features[16] = udp.len\n",
    "    return features"
   ]
  },
  {
   "cell_type": "code",
   "execution_count": null,
   "id": "718a5930",
   "metadata": {
    "scrolled": true
   },
   "outputs": [],
   "source": [
    "from scapy.all import *\n",
    "import os\n",
    "from sklearn.ensemble import RandomForestClassifier\n",
    "from sklearn.metrics import confusion_matrix, accuracy_score, precision_score, recall_score, f1_score\n",
    "from sklearn.model_selection import train_test_split\n",
    "from scapy.layers.inet import IP, TCP, UDP\n",
    "\n",
    "# Read and parse malware dataset\n",
    "malware_dir = 'C:/Users/14802/Desktop/Mal'\n",
    "malware_data = []\n",
    "for file in os.listdir(malware_dir):\n",
    "    if file.endswith('.pcap'):\n",
    "        file_path = os.path.join(malware_dir, file)\n",
    "        try:\n",
    "            packets = rdpcap(file_path)\n",
    "            malware_data.extend([(packet, 1) for packet in packets])\n",
    "        except Exception as e:\n",
    "            print(f\"Error reading file {file}: {str(e)}\")\n",
    "\n",
    "# Read and parse benign network traffic dataset\n",
    "traffic_path = 'C:/Users/14802/Desktop/Traffic/traffic.pcapng'\n",
    "try:\n",
    "    packets = rdpcap(traffic_path)\n",
    "    print(f\"File {traffic_path} has {len(packets)} packets\")\n",
    "    malware_data.extend([(packet, 0) for packet in packets])\n",
    "except Exception as e:\n",
    "    print(f\"Error reading file {traffic_path}: {str(e)}\")\n",
    "\n",
    "# Split into training and testing set\n",
    "train_data, test_data = train_test_split(malware_data, test_size=0.2, random_state=42)\n",
    "\n",
    "# Extract features from the packets\n",
    "def extract_features(packet):\n",
    "    features = []\n",
    "    if IP in packet:\n",
    "        ip = packet[IP]\n",
    "        features.extend([ip.version, ip.ihl, ip.tos, ip.len, ip.flags, ip.frag, ip.ttl, ip.proto])\n",
    "    if TCP in packet:\n",
    "        tcp = packet[TCP]\n",
    "        features.extend([tcp.sport, tcp.dport, tcp.seq, tcp.ack, tcp.flags, tcp.window])\n",
    "    if UDP in packet:\n",
    "        udp = packet[UDP]\n",
    "        features.extend([udp.sport, udp.dport, udp.len])\n",
    "    return features\n",
    "\n",
    "# Extract features and labels from the training and testing data\n",
    "X_train = [extract_features(packet) for packet, _ in train_data]\n",
    "y_train = [label for _, label in train_data]\n",
    "X_test = [extract_features(packet) for packet, _ in test_data]\n",
    "y_test = [label for _, label in test_data]\n",
    "\n",
    "# Train a random forest classifier\n",
    "rf = RandomForestClassifier(n_estimators=100, random_state=42)\n",
    "rf.fit(X_train, y_train)\n",
    "\n",
    "# Test the accuracy of the model on the test set\n",
    "y_pred = rf.predict(X_test)\n",
    "conf_matrix = confusion_matrix(y_test, y_pred)\n",
    "\n",
    "print(f\"Confusion Matrix:\\n{conf_matrix}\")\n",
    "print(f\"Accuracy: {accuracy_score(y_test, y_pred)}\")\n",
    "print(f\"Precision: {precision_score(y_test, y_pred)}\")\n",
    "print(f\"Recall: {recall_score(y_test, y_pred)}\")"
   ]
  },
  {
   "cell_type": "code",
   "execution_count": null,
   "id": "3fdd107a",
   "metadata": {},
   "outputs": [],
   "source": []
  },
  {
   "cell_type": "code",
   "execution_count": null,
   "id": "c458057b",
   "metadata": {},
   "outputs": [],
   "source": []
  },
  {
   "cell_type": "code",
   "execution_count": null,
   "id": "1104617c",
   "metadata": {},
   "outputs": [],
   "source": []
  }
 ],
 "metadata": {
  "kernelspec": {
   "display_name": "Python 3 (ipykernel)",
   "language": "python",
   "name": "python3"
  },
  "language_info": {
   "codemirror_mode": {
    "name": "ipython",
    "version": 3
   },
   "file_extension": ".py",
   "mimetype": "text/x-python",
   "name": "python",
   "nbconvert_exporter": "python",
   "pygments_lexer": "ipython3",
   "version": "3.10.9"
  },
  "widgets": {
   "application/vnd.jupyter.widget-state+json": {
    "state": {},
    "version_major": 2,
    "version_minor": 0
   }
  }
 },
 "nbformat": 4,
 "nbformat_minor": 5
}
